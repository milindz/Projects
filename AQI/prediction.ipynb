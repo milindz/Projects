{
 "cells": [
  {
   "cell_type": "code",
   "execution_count": 1,
   "id": "injured-manufacturer",
   "metadata": {},
   "outputs": [],
   "source": [
    "import streamlit as st\n",
    "import pickle\n",
    "import numpy as np\n",
    "import pandas as pd"
   ]
  },
  {
   "cell_type": "code",
   "execution_count": 2,
   "id": "promotional-occurrence",
   "metadata": {},
   "outputs": [],
   "source": [
    "def load_model():\n",
    "    with open('./model.pkl', 'rb') as file:\n",
    "        data = pickle.load(file)\n",
    "    return data"
   ]
  },
  {
   "cell_type": "code",
   "execution_count": 3,
   "id": "black-orchestra",
   "metadata": {},
   "outputs": [],
   "source": [
    "data = load_model()"
   ]
  },
  {
   "cell_type": "code",
   "execution_count": 4,
   "id": "tender-protein",
   "metadata": {},
   "outputs": [],
   "source": [
    "regressor = data[\"model\"]"
   ]
  },
  {
   "cell_type": "code",
   "execution_count": 6,
   "id": "golden-formula",
   "metadata": {},
   "outputs": [],
   "source": [
    "def show_predict_page():\n",
    "    st.title(\"AQI prediction\")\n",
    "\n",
    "    st.write(\"\"\"Input info. to predict AQI\"\"\")\n",
    "    PM2_5 = st.slider(\"PM2.5\",0, 0, 950)\n",
    "    NO2  = st.slider(\"NO2\",0, 0, 362)\n",
    "    CO  = st.slider(\"CO\",0, 0, 1756)\n",
    "    SO2 = st.slider(\"SO2\",0, 0, 194)\n",
    "    O3  = st.slider(\"O3\",0, 0, 258)\n",
    "    \n",
    "    ok = st.button(\"Calculate AQI\")\n",
    "    if ok:\n",
    "        X = np.array([[PM2_5,NO2,CO,SO2,O3 ]])\n",
    "        X = X.astype(float)\n",
    "\n",
    "        AQI = regressor.predict(X)\n",
    "        if round(AQI[0],0)>= 0 and round(AQI[0],0) <= 50:\n",
    "            st.subheader(f\"The estimated AQI is Good\")\n",
    "        elif  round(AQI[0],0)>= 51 and round(AQI[0],0) <= 100:\n",
    "            st.subheader(f\"The estimated AQI is Satisfactory\")\n",
    "        elif  round(AQI[0],0)>= 101 and round(AQI[0],0) <= 200:\n",
    "            st.subheader(f\"The estimated AQI is Moderate\")\n",
    "        elif round(AQI[0],0)>= 201 and round(AQI[0],0) <= 300:\n",
    "            st.subheader(f\"The estimated AQI is Poor\")\n",
    "        else:\n",
    "            st.subheader(f\"The estimated AQI is Severe\")\n"
   ]
  },
  {
   "cell_type": "code",
   "execution_count": null,
   "id": "legislative-character",
   "metadata": {},
   "outputs": [],
   "source": []
  },
  {
   "cell_type": "code",
   "execution_count": null,
   "id": "excessive-birth",
   "metadata": {},
   "outputs": [],
   "source": []
  },
  {
   "cell_type": "code",
   "execution_count": null,
   "id": "technical-joining",
   "metadata": {},
   "outputs": [],
   "source": []
  },
  {
   "cell_type": "code",
   "execution_count": null,
   "id": "divided-newman",
   "metadata": {},
   "outputs": [],
   "source": []
  },
  {
   "cell_type": "code",
   "execution_count": null,
   "id": "permanent-reputation",
   "metadata": {},
   "outputs": [],
   "source": []
  },
  {
   "cell_type": "code",
   "execution_count": null,
   "id": "laughing-discharge",
   "metadata": {},
   "outputs": [],
   "source": []
  },
  {
   "cell_type": "code",
   "execution_count": null,
   "id": "covered-adventure",
   "metadata": {},
   "outputs": [],
   "source": []
  },
  {
   "cell_type": "code",
   "execution_count": null,
   "id": "spatial-anatomy",
   "metadata": {},
   "outputs": [],
   "source": []
  },
  {
   "cell_type": "code",
   "execution_count": null,
   "id": "forced-cricket",
   "metadata": {},
   "outputs": [],
   "source": []
  },
  {
   "cell_type": "code",
   "execution_count": null,
   "id": "specialized-grenada",
   "metadata": {},
   "outputs": [],
   "source": []
  },
  {
   "cell_type": "code",
   "execution_count": null,
   "id": "modern-budget",
   "metadata": {},
   "outputs": [],
   "source": []
  },
  {
   "cell_type": "code",
   "execution_count": null,
   "id": "random-photographer",
   "metadata": {},
   "outputs": [],
   "source": []
  },
  {
   "cell_type": "code",
   "execution_count": null,
   "id": "recovered-absolute",
   "metadata": {},
   "outputs": [],
   "source": []
  },
  {
   "cell_type": "code",
   "execution_count": null,
   "id": "sitting-auckland",
   "metadata": {},
   "outputs": [],
   "source": []
  }
 ],
 "metadata": {
  "kernelspec": {
   "display_name": "Python 3",
   "language": "python",
   "name": "python3"
  },
  "language_info": {
   "codemirror_mode": {
    "name": "ipython",
    "version": 3
   },
   "file_extension": ".py",
   "mimetype": "text/x-python",
   "name": "python",
   "nbconvert_exporter": "python",
   "pygments_lexer": "ipython3",
   "version": "3.8.5"
  }
 },
 "nbformat": 4,
 "nbformat_minor": 5
}
