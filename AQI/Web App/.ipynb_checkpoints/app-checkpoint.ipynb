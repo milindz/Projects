{
 "cells": [
  {
   "cell_type": "code",
   "execution_count": null,
   "id": "breathing-concrete",
   "metadata": {},
   "outputs": [],
   "source": [
    "import streamlit as st\n",
    "from prediction import show_predict_page\n",
    "\n",
    "show_predict_page()\n"
   ]
  }
 ],
 "metadata": {
  "kernelspec": {
   "display_name": "Python 3",
   "language": "python",
   "name": "python3"
  },
  "language_info": {
   "codemirror_mode": {
    "name": "ipython",
    "version": 3
   },
   "file_extension": ".py",
   "mimetype": "text/x-python",
   "name": "python",
   "nbconvert_exporter": "python",
   "pygments_lexer": "ipython3",
   "version": "3.8.5"
  }
 },
 "nbformat": 4,
 "nbformat_minor": 5
}
